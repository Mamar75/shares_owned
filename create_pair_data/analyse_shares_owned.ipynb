{
 "cells": [
  {
   "cell_type": "code",
   "execution_count": 4,
   "metadata": {
    "collapsed": true
   },
   "outputs": [],
   "source": [
    "import pandas as pd\n",
    "shares_owned = pd.read_csv('../../17_data_new/shares_owned')\n",
    "crsp_data = pd.read_csv('../../17_data_new/short_crsp_data.csv')"
   ]
  },
  {
   "cell_type": "code",
   "execution_count": 9,
   "outputs": [
    {
     "name": "stdout",
     "output_type": "stream",
     "text": [
      "The number of pairs is 82591\n"
     ]
    }
   ],
   "source": [
    "shares_owned['pair_id'] = shares_owned['cusips'] + shares_owned['cik_owner'].astype(str)\n",
    "shares_owned['pair_id'] = shares_owned['pair_id'].apply(lambda x: hash(x)).astype('int64')\n",
    "pair_id_list = list((set(shares_owned['pair_id'])))\n",
    "print(f'The number of pairs is {len(pair_id_list)}.')"
   ],
   "metadata": {
    "collapsed": false
   }
  },
  {
   "cell_type": "code",
   "execution_count": 14,
   "outputs": [
    {
     "name": "stdout",
     "output_type": "stream",
     "text": [
      "The number of CIK in crsp_data is 19298.\n",
      "665507\n",
      "182180\n",
      "The number of pairs is 29792.\n"
     ]
    }
   ],
   "source": [
    "crsp_cik = list(set(crsp_data['CIK']))\n",
    "print(f'The number of CIK in crsp_data is {len(crsp_cik)}.')\n",
    "print(len(shares_owned))\n",
    "shares_owned_short = shares_owned[shares_owned['cik_owner'].isin(crsp_cik)]\n",
    "print(len(shares_owned_short))\n",
    "pair_id_list = list((set(shares_owned_short['pair_id'])))\n",
    "print(f'The number of pairs is {len(pair_id_list)}.')"
   ],
   "metadata": {
    "collapsed": false
   }
  }
 ],
 "metadata": {
  "kernelspec": {
   "display_name": "Python 3",
   "language": "python",
   "name": "python3"
  },
  "language_info": {
   "codemirror_mode": {
    "name": "ipython",
    "version": 2
   },
   "file_extension": ".py",
   "mimetype": "text/x-python",
   "name": "python",
   "nbconvert_exporter": "python",
   "pygments_lexer": "ipython2",
   "version": "2.7.6"
  }
 },
 "nbformat": 4,
 "nbformat_minor": 0
}
