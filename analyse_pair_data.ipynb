{
 "cells": [
  {
   "cell_type": "code",
   "source": [
    "import pandas as pd\n",
    "import numpy as np"
   ],
   "metadata": {
    "collapsed": false,
    "ExecuteTime": {
     "end_time": "2024-04-24T16:16:38.058852Z",
     "start_time": "2024-04-24T16:16:37.625980Z"
    }
   },
   "outputs": [],
   "execution_count": 1
  },
  {
   "cell_type": "markdown",
   "source": [
    "# Analyse pair_data.csv"
   ],
   "metadata": {
    "collapsed": false
   }
  },
  {
   "cell_type": "code",
   "source": [
    "pair_data = pd.read_csv('../17_data_new/pair_data.csv')"
   ],
   "metadata": {
    "collapsed": false,
    "ExecuteTime": {
     "end_time": "2024-04-24T16:18:41.033342Z",
     "start_time": "2024-04-24T16:16:38.060853Z"
    }
   },
   "outputs": [
    {
     "name": "stderr",
     "output_type": "stream",
     "text": [
      "C:\\ProgramData\\Anaconda3\\lib\\site-packages\\IPython\\core\\interactiveshell.py:3526: DtypeWarning: Columns (3,11,12,13,14,15,16,18,27,28) have mixed types.Specify dtype option on import or set low_memory=False.\n",
      "  exec(code_obj, self.user_global_ns, self.user_ns)\n"
     ]
    }
   ],
   "execution_count": 2
  },
  {
   "cell_type": "code",
   "source": [
    "pair_data.head()"
   ],
   "metadata": {
    "collapsed": false,
    "ExecuteTime": {
     "end_time": "2024-04-24T16:18:41.125921Z",
     "start_time": "2024-04-24T16:18:41.039847Z"
    }
   },
   "outputs": [
    {
     "data": {
      "text/plain": [
       "  date_sample     pair_id min_date_sample     cusips  cik_owner  \\\n",
       "0  2017-12-29 -2147379927      2017-12-29  40167F101     895421   \n",
       "1  2017-12-29 -2147379927      2017-12-29  40167F101     895421   \n",
       "2  2018-01-02 -2147379927      2017-12-29  40167F101     895421   \n",
       "3  2018-01-03 -2147379927      2017-12-29  40167F101     895421   \n",
       "4  2018-01-04 -2147379927      2017-12-29  40167F101     895421   \n",
       "\n",
       "                                   company           owner  cik_company  \\\n",
       "0  GUGGENHEIM STRATEGIC OPPORTUNITIES FUND  MORGAN STANLEY      1380936   \n",
       "1  GUGGENHEIM STRATEGIC OPPORTUNITIES FUND  MORGAN STANLEY      1380936   \n",
       "2  GUGGENHEIM STRATEGIC OPPORTUNITIES FUND  MORGAN STANLEY      1380936   \n",
       "3  GUGGENHEIM STRATEGIC OPPORTUNITIES FUND  MORGAN STANLEY      1380936   \n",
       "4  GUGGENHEIM STRATEGIC OPPORTUNITIES FUND  MORGAN STANLEY      1380936   \n",
       "\n",
       "  file_type  date_issue  ... PERMNO_o   CUSIP_o CUSIP6_o Ticker_o PERMCO_o  \\\n",
       "0       13G  2018-02-12  ...    69032  61744644   617446       MS    21224   \n",
       "1       13G  2018-02-12  ...    69032  61744644   617446       MS    21224   \n",
       "2       13G  2018-02-12  ...    69032  61744644   617446       MS    21224   \n",
       "3       13G  2018-02-12  ...    69032  61744644   617446       MS    21224   \n",
       "4       13G  2018-02-12  ...    69032  61744644   617446       MS    21224   \n",
       "\n",
       "  NAICS_o DlyPrc_o     DlyCap_o   DlyVol_o   ShrOut_o  \n",
       "0  523120    52.47  94860460.53  5804576.0  1807899.0  \n",
       "1  523120    52.47  94860460.53  5804576.0  1807899.0  \n",
       "2  523120    52.19  94354248.81  6644643.0  1807899.0  \n",
       "3  523120    52.33  94607354.67  6955511.0  1807899.0  \n",
       "4  523120    53.13  96053673.87  8678825.0  1807899.0  \n",
       "\n",
       "[5 rows x 36 columns]"
      ],
      "text/html": [
       "<div>\n",
       "<style scoped>\n",
       "    .dataframe tbody tr th:only-of-type {\n",
       "        vertical-align: middle;\n",
       "    }\n",
       "\n",
       "    .dataframe tbody tr th {\n",
       "        vertical-align: top;\n",
       "    }\n",
       "\n",
       "    .dataframe thead th {\n",
       "        text-align: right;\n",
       "    }\n",
       "</style>\n",
       "<table border=\"1\" class=\"dataframe\">\n",
       "  <thead>\n",
       "    <tr style=\"text-align: right;\">\n",
       "      <th></th>\n",
       "      <th>date_sample</th>\n",
       "      <th>pair_id</th>\n",
       "      <th>min_date_sample</th>\n",
       "      <th>cusips</th>\n",
       "      <th>cik_owner</th>\n",
       "      <th>company</th>\n",
       "      <th>owner</th>\n",
       "      <th>cik_company</th>\n",
       "      <th>file_type</th>\n",
       "      <th>date_issue</th>\n",
       "      <th>...</th>\n",
       "      <th>PERMNO_o</th>\n",
       "      <th>CUSIP_o</th>\n",
       "      <th>CUSIP6_o</th>\n",
       "      <th>Ticker_o</th>\n",
       "      <th>PERMCO_o</th>\n",
       "      <th>NAICS_o</th>\n",
       "      <th>DlyPrc_o</th>\n",
       "      <th>DlyCap_o</th>\n",
       "      <th>DlyVol_o</th>\n",
       "      <th>ShrOut_o</th>\n",
       "    </tr>\n",
       "  </thead>\n",
       "  <tbody>\n",
       "    <tr>\n",
       "      <th>0</th>\n",
       "      <td>2017-12-29</td>\n",
       "      <td>-2147379927</td>\n",
       "      <td>2017-12-29</td>\n",
       "      <td>40167F101</td>\n",
       "      <td>895421</td>\n",
       "      <td>GUGGENHEIM STRATEGIC OPPORTUNITIES FUND</td>\n",
       "      <td>MORGAN STANLEY</td>\n",
       "      <td>1380936</td>\n",
       "      <td>13G</td>\n",
       "      <td>2018-02-12</td>\n",
       "      <td>...</td>\n",
       "      <td>69032</td>\n",
       "      <td>61744644</td>\n",
       "      <td>617446</td>\n",
       "      <td>MS</td>\n",
       "      <td>21224</td>\n",
       "      <td>523120</td>\n",
       "      <td>52.47</td>\n",
       "      <td>94860460.53</td>\n",
       "      <td>5804576.0</td>\n",
       "      <td>1807899.0</td>\n",
       "    </tr>\n",
       "    <tr>\n",
       "      <th>1</th>\n",
       "      <td>2017-12-29</td>\n",
       "      <td>-2147379927</td>\n",
       "      <td>2017-12-29</td>\n",
       "      <td>40167F101</td>\n",
       "      <td>895421</td>\n",
       "      <td>GUGGENHEIM STRATEGIC OPPORTUNITIES FUND</td>\n",
       "      <td>MORGAN STANLEY</td>\n",
       "      <td>1380936</td>\n",
       "      <td>13G</td>\n",
       "      <td>2018-02-12</td>\n",
       "      <td>...</td>\n",
       "      <td>69032</td>\n",
       "      <td>61744644</td>\n",
       "      <td>617446</td>\n",
       "      <td>MS</td>\n",
       "      <td>21224</td>\n",
       "      <td>523120</td>\n",
       "      <td>52.47</td>\n",
       "      <td>94860460.53</td>\n",
       "      <td>5804576.0</td>\n",
       "      <td>1807899.0</td>\n",
       "    </tr>\n",
       "    <tr>\n",
       "      <th>2</th>\n",
       "      <td>2018-01-02</td>\n",
       "      <td>-2147379927</td>\n",
       "      <td>2017-12-29</td>\n",
       "      <td>40167F101</td>\n",
       "      <td>895421</td>\n",
       "      <td>GUGGENHEIM STRATEGIC OPPORTUNITIES FUND</td>\n",
       "      <td>MORGAN STANLEY</td>\n",
       "      <td>1380936</td>\n",
       "      <td>13G</td>\n",
       "      <td>2018-02-12</td>\n",
       "      <td>...</td>\n",
       "      <td>69032</td>\n",
       "      <td>61744644</td>\n",
       "      <td>617446</td>\n",
       "      <td>MS</td>\n",
       "      <td>21224</td>\n",
       "      <td>523120</td>\n",
       "      <td>52.19</td>\n",
       "      <td>94354248.81</td>\n",
       "      <td>6644643.0</td>\n",
       "      <td>1807899.0</td>\n",
       "    </tr>\n",
       "    <tr>\n",
       "      <th>3</th>\n",
       "      <td>2018-01-03</td>\n",
       "      <td>-2147379927</td>\n",
       "      <td>2017-12-29</td>\n",
       "      <td>40167F101</td>\n",
       "      <td>895421</td>\n",
       "      <td>GUGGENHEIM STRATEGIC OPPORTUNITIES FUND</td>\n",
       "      <td>MORGAN STANLEY</td>\n",
       "      <td>1380936</td>\n",
       "      <td>13G</td>\n",
       "      <td>2018-02-12</td>\n",
       "      <td>...</td>\n",
       "      <td>69032</td>\n",
       "      <td>61744644</td>\n",
       "      <td>617446</td>\n",
       "      <td>MS</td>\n",
       "      <td>21224</td>\n",
       "      <td>523120</td>\n",
       "      <td>52.33</td>\n",
       "      <td>94607354.67</td>\n",
       "      <td>6955511.0</td>\n",
       "      <td>1807899.0</td>\n",
       "    </tr>\n",
       "    <tr>\n",
       "      <th>4</th>\n",
       "      <td>2018-01-04</td>\n",
       "      <td>-2147379927</td>\n",
       "      <td>2017-12-29</td>\n",
       "      <td>40167F101</td>\n",
       "      <td>895421</td>\n",
       "      <td>GUGGENHEIM STRATEGIC OPPORTUNITIES FUND</td>\n",
       "      <td>MORGAN STANLEY</td>\n",
       "      <td>1380936</td>\n",
       "      <td>13G</td>\n",
       "      <td>2018-02-12</td>\n",
       "      <td>...</td>\n",
       "      <td>69032</td>\n",
       "      <td>61744644</td>\n",
       "      <td>617446</td>\n",
       "      <td>MS</td>\n",
       "      <td>21224</td>\n",
       "      <td>523120</td>\n",
       "      <td>53.13</td>\n",
       "      <td>96053673.87</td>\n",
       "      <td>8678825.0</td>\n",
       "      <td>1807899.0</td>\n",
       "    </tr>\n",
       "  </tbody>\n",
       "</table>\n",
       "<p>5 rows × 36 columns</p>\n",
       "</div>"
      ]
     },
     "execution_count": 3,
     "metadata": {},
     "output_type": "execute_result"
    }
   ],
   "execution_count": 3
  },
  {
   "cell_type": "markdown",
   "source": [
    "## 1. General Statistics"
   ],
   "metadata": {
    "collapsed": false
   }
  },
  {
   "cell_type": "code",
   "source": [
    "list_pair = set(pair_data['pair_id'])\n",
    "print(f'The number of pairs is {len(list_pair)}.')"
   ],
   "metadata": {
    "collapsed": false,
    "ExecuteTime": {
     "end_time": "2024-04-24T16:18:43.701130Z",
     "start_time": "2024-04-24T16:18:41.127923Z"
    }
   },
   "outputs": [
    {
     "name": "stdout",
     "output_type": "stream",
     "text": [
      "The number of pairs is 21319.\n"
     ]
    }
   ],
   "execution_count": 4
  },
  {
   "cell_type": "code",
   "source": [
    "list_na_pair = set(pair_data[pair_data['shares_agg'].isna()]['pair_id'])\n",
    "print(f'The number of pairs with \\'Nan\\' aggregated shares {len(list_na_pair)}.')"
   ],
   "metadata": {
    "collapsed": false,
    "ExecuteTime": {
     "end_time": "2024-04-24T16:18:44.523335Z",
     "start_time": "2024-04-24T16:18:43.703632Z"
    }
   },
   "outputs": [
    {
     "name": "stdout",
     "output_type": "stream",
     "text": [
      "The number of pairs with 'Nan' aggregated shares 0.\n"
     ]
    }
   ],
   "execution_count": 5
  },
  {
   "cell_type": "code",
   "source": [
    "list_na_pair = set(pair_data[pair_data['shares_agg']=='None']['pair_id'])\n",
    "print(f'The number of pairs with \\'None\\' aggregated shares {len(list_na_pair)}.')"
   ],
   "metadata": {
    "collapsed": false,
    "ExecuteTime": {
     "end_time": "2024-04-24T16:18:46.028126Z",
     "start_time": "2024-04-24T16:18:44.524336Z"
    }
   },
   "outputs": [
    {
     "name": "stdout",
     "output_type": "stream",
     "text": [
      "The number of pairs with 'None' aggregated shares 611.\n"
     ]
    }
   ],
   "execution_count": 6
  },
  {
   "cell_type": "code",
   "source": [
    "pair_data[pair_data['shares_agg'].isna()].head(5)"
   ],
   "metadata": {
    "collapsed": false,
    "ExecuteTime": {
     "end_time": "2024-04-24T16:18:46.819305Z",
     "start_time": "2024-04-24T16:18:46.029127Z"
    }
   },
   "outputs": [
    {
     "data": {
      "text/plain": [
       "Empty DataFrame\n",
       "Columns: [date_sample, pair_id, min_date_sample, cusips, cik_owner, company, owner, cik_company, file_type, date_issue, date_transaction, shares_agg, shares_sole_vote, shares_shared_vote, shares_sole_dispositive, shares_shared_dispositive, shares_percentage, PERMNO, CUSIP6, Ticker, PERMCO, NAICS, DlyPrc, DlyCap, DlyVol, ShrOut, PERMNO_o, CUSIP_o, CUSIP6_o, Ticker_o, PERMCO_o, NAICS_o, DlyPrc_o, DlyCap_o, DlyVol_o, ShrOut_o]\n",
       "Index: []\n",
       "\n",
       "[0 rows x 36 columns]"
      ],
      "text/html": [
       "<div>\n",
       "<style scoped>\n",
       "    .dataframe tbody tr th:only-of-type {\n",
       "        vertical-align: middle;\n",
       "    }\n",
       "\n",
       "    .dataframe tbody tr th {\n",
       "        vertical-align: top;\n",
       "    }\n",
       "\n",
       "    .dataframe thead th {\n",
       "        text-align: right;\n",
       "    }\n",
       "</style>\n",
       "<table border=\"1\" class=\"dataframe\">\n",
       "  <thead>\n",
       "    <tr style=\"text-align: right;\">\n",
       "      <th></th>\n",
       "      <th>date_sample</th>\n",
       "      <th>pair_id</th>\n",
       "      <th>min_date_sample</th>\n",
       "      <th>cusips</th>\n",
       "      <th>cik_owner</th>\n",
       "      <th>company</th>\n",
       "      <th>owner</th>\n",
       "      <th>cik_company</th>\n",
       "      <th>file_type</th>\n",
       "      <th>date_issue</th>\n",
       "      <th>...</th>\n",
       "      <th>PERMNO_o</th>\n",
       "      <th>CUSIP_o</th>\n",
       "      <th>CUSIP6_o</th>\n",
       "      <th>Ticker_o</th>\n",
       "      <th>PERMCO_o</th>\n",
       "      <th>NAICS_o</th>\n",
       "      <th>DlyPrc_o</th>\n",
       "      <th>DlyCap_o</th>\n",
       "      <th>DlyVol_o</th>\n",
       "      <th>ShrOut_o</th>\n",
       "    </tr>\n",
       "  </thead>\n",
       "  <tbody>\n",
       "  </tbody>\n",
       "</table>\n",
       "<p>0 rows × 36 columns</p>\n",
       "</div>"
      ]
     },
     "execution_count": 7,
     "metadata": {},
     "output_type": "execute_result"
    }
   ],
   "execution_count": 7
  },
  {
   "cell_type": "markdown",
   "source": [
    "It might happen in rare cases that the parsing didn't work for the number of 'aggregated shares' but worked well for the number of 'sole dispositive shares' and 'shared dispositive shares'. In this case, I may replace the number of 'aggregated shares' by sum of the number of 'sole dispositive shares' and 'shared dispositive shares'."
   ],
   "metadata": {
    "collapsed": false
   }
  },
  {
   "cell_type": "code",
   "source": [
    "# Convert to numeric, handling 'None' and commas\n",
    "pair_data['sole_numeric'] = pd.to_numeric(pair_data['shares_sole_dispositive'].str.replace(',', ''), errors='coerce')\n",
    "pair_data['shared_numeric'] = pd.to_numeric(pair_data['shares_shared_dispositive'].str.replace(',', ''), errors='coerce')\n",
    "\n",
    "# Identify rows where both inputs are 'None' before filling NaNs with 0\n",
    "mask_both_none = pair_data['sole_numeric'].isna() & pair_data['shared_numeric'].isna()\n",
    "\n",
    "# Now fill NaNs with 0 for calculation\n",
    "pair_data['sole_numeric'].fillna(0, inplace=True)\n",
    "pair_data['shared_numeric'].fillna(0, inplace=True)\n",
    "\n",
    "# Calculate the sum\n",
    "pair_data['temp_sum'] = pair_data['sole_numeric'] + pair_data['shared_numeric']\n",
    "\n",
    "# Apply mask_both_none to reintroduce 'None' where both were originally 'None'\n",
    "pair_data.loc[mask_both_none, 'temp_sum'] = np.nan\n",
    "\n",
    "# Create 'shares_agg_bis', copying 'shares_agg' first\n",
    "pair_data['shares_agg_bis'] = pair_data['shares_agg']\n",
    "\n",
    "# Replace 'None' in 'shares_agg_bis' with the calculated sum, format as string with commas\n",
    "pair_data.loc[pair_data['shares_agg_bis'] == 'None', 'shares_agg_bis'] = pair_data['temp_sum'].apply(lambda x: '{:,.0f}'.format(x) if pd.notna(x) else 'None')\n",
    "\n",
    "# Optionally, remove temporary columns if they are no longer needed\n",
    "pair_data.drop(['sole_numeric', 'shared_numeric', 'temp_sum'], axis=1, inplace=True)"
   ],
   "metadata": {
    "collapsed": false,
    "ExecuteTime": {
     "end_time": "2024-04-24T16:20:37.352123Z",
     "start_time": "2024-04-24T16:18:46.820807Z"
    }
   },
   "outputs": [],
   "execution_count": 8
  },
  {
   "cell_type": "code",
   "source": [
    "list_na_pair = set(pair_data[pair_data['shares_agg_bis']=='None']['pair_id'])\n",
    "print(f'The number of pairs with \\'None\\' aggregated shares {len(list_na_pair)}.')"
   ],
   "metadata": {
    "collapsed": false,
    "ExecuteTime": {
     "end_time": "2024-04-24T16:20:39.073599Z",
     "start_time": "2024-04-24T16:20:37.363132Z"
    }
   },
   "outputs": [
    {
     "name": "stdout",
     "output_type": "stream",
     "text": [
      "The number of pairs with 'None' aggregated shares 483.\n"
     ]
    }
   ],
   "execution_count": 9
  },
  {
   "cell_type": "markdown",
   "source": [
    "Let's create columns with a numerical format for the columns 'shares_agg', 'shares_agg_bis' and 'shares_percentage'."
   ],
   "metadata": {
    "collapsed": false
   }
  },
  {
   "cell_type": "code",
   "source": [
    "pair_data['shares_agg_num'] = pd.to_numeric(pair_data['shares_agg'].str.replace(',', ''), errors='coerce').fillna(0)\n",
    "pair_data['shares_agg_bis_num'] = pd.to_numeric(pair_data['shares_agg_bis'].str.replace(',', ''), errors='coerce').fillna(0)\n",
    "pair_data['shares_percentage_num'] = pd.to_numeric(pair_data['shares_percentage'], errors='coerce').fillna(0)"
   ],
   "metadata": {
    "collapsed": false,
    "ExecuteTime": {
     "end_time": "2024-04-24T16:21:32.206678Z",
     "start_time": "2024-04-24T16:20:39.075601Z"
    }
   },
   "outputs": [],
   "execution_count": 10
  },
  {
   "cell_type": "markdown",
   "source": [
    "## 2. The Negative Stub Values"
   ],
   "metadata": {
    "collapsed": false
   }
  },
  {
   "cell_type": "code",
   "source": [
    "pair_data['stake_1'] = (pair_data['shares_agg_num']*pair_data['DlyPrc'])/1000\n",
    "pair_data['stake_2'] = (pair_data['shares_agg_bis_num']*pair_data['DlyPrc'])/1000\n",
    "pair_data['stake_3'] = pair_data['shares_percentage_num']/100*pair_data['DlyCap']\n",
    "pair_data['stub_1'] = pair_data['DlyCap_o'] - pair_data['stake_1']\n",
    "pair_data['stub_2'] = pair_data['DlyCap_o'] - pair_data['stake_2']\n",
    "pair_data['stub_3'] = pair_data['DlyCap_o'] - pair_data['stake_3']"
   ],
   "metadata": {
    "collapsed": false,
    "ExecuteTime": {
     "end_time": "2024-04-24T16:21:32.780671Z",
     "start_time": "2024-04-24T16:21:32.209180Z"
    }
   },
   "outputs": [],
   "execution_count": 11
  },
  {
   "cell_type": "code",
   "source": [
    "nsv_pair_1 = set(pair_data[pair_data['stub_1'] < 0]['pair_id'])\n",
    "print(f'The number of pairs with a NSV is {len(nsv_pair_1)} (stub_1).')"
   ],
   "metadata": {
    "collapsed": false,
    "ExecuteTime": {
     "end_time": "2024-04-24T16:21:36.565918Z",
     "start_time": "2024-04-24T16:21:32.781671Z"
    }
   },
   "outputs": [
    {
     "name": "stdout",
     "output_type": "stream",
     "text": [
      "The number of pairs with a NSV is 662 (stub_1).\n"
     ]
    }
   ],
   "execution_count": 12
  },
  {
   "cell_type": "code",
   "source": [
    "nsv_pair_2 = set(pair_data[pair_data['stub_2'] < 0]['pair_id'])\n",
    "print(f'The number of pairs with a NSV is {len(nsv_pair_2)} (stub_2).')"
   ],
   "metadata": {
    "collapsed": false,
    "ExecuteTime": {
     "end_time": "2024-04-24T16:21:36.845157Z",
     "start_time": "2024-04-24T16:21:36.566918Z"
    }
   },
   "outputs": [
    {
     "name": "stdout",
     "output_type": "stream",
     "text": [
      "The number of pairs with a NSV is 666 (stub_2).\n"
     ]
    }
   ],
   "execution_count": 13
  },
  {
   "cell_type": "code",
   "source": [
    "nsv_pair_3 = set(pair_data[pair_data['stub_3'] < 0]['pair_id'])\n",
    "print(f'The number of pairs with a NSV is {len(nsv_pair_3)} (stub_3).')"
   ],
   "metadata": {
    "collapsed": false,
    "ExecuteTime": {
     "end_time": "2024-04-24T16:21:37.139910Z",
     "start_time": "2024-04-24T16:21:36.850161Z"
    }
   },
   "outputs": [
    {
     "name": "stdout",
     "output_type": "stream",
     "text": [
      "The number of pairs with a NSV is 567 (stub_3).\n"
     ]
    }
   ],
   "execution_count": 14
  },
  {
   "cell_type": "code",
   "source": [
    "nsv_pair = nsv_pair_1 | nsv_pair_2 | nsv_pair_3\n",
    "print(f'The total number of NSV is {len(nsv_pair)}.')"
   ],
   "metadata": {
    "collapsed": false,
    "ExecuteTime": {
     "end_time": "2024-04-24T16:21:37.155423Z",
     "start_time": "2024-04-24T16:21:37.141412Z"
    }
   },
   "outputs": [
    {
     "name": "stdout",
     "output_type": "stream",
     "text": [
      "The total number of NSV is 743.\n"
     ]
    }
   ],
   "execution_count": 15
  },
  {
   "cell_type": "code",
   "source": [
    "nsv_pair_data = pair_data[pair_data.pair_id.isin(nsv_pair)]"
   ],
   "metadata": {
    "collapsed": false,
    "ExecuteTime": {
     "end_time": "2024-04-24T16:21:38.210328Z",
     "start_time": "2024-04-24T16:21:37.156424Z"
    }
   },
   "outputs": [],
   "execution_count": 16
  },
  {
   "cell_type": "code",
   "source": [
    "# Step 1: Group by 'pair_id'\n",
    "grouped = nsv_pair_data.groupby('pair_id')\n",
    "\n",
    "def extract_rows(group):\n",
    "    # First observation\n",
    "    first_row = group.iloc[[0]]\n",
    "\n",
    "    # Last observation\n",
    "    last_row = group.iloc[[-1]]\n",
    "\n",
    "    # Row with minimum value among 'stub_1', 'stub_2', 'stub_3'\n",
    "    # Create a temporary column for the minimum of the three stubs\n",
    "    group['min_stub'] = group[['stub_1', 'stub_2', 'stub_3']].min(axis=1)\n",
    "    min_row = group.loc[group['min_stub'] == group['min_stub'].min()]\n",
    "\n",
    "    # Drop the temporary column to avoid affecting the original dataframe\n",
    "    group = group.drop(columns=['min_stub'])\n",
    "\n",
    "    # It's possible min_row could have more than one row if the minimum value is achieved by multiple rows.\n",
    "    # You can handle this case as needed, e.g., by taking the first occurrence:\n",
    "    min_row = min_row.iloc[[0]]\n",
    "\n",
    "    # Combine the rows\n",
    "    return pd.concat([first_row, min_row, last_row])\n",
    "\n",
    "nsv_presentation_data = pd.concat([extract_rows(group) for _, group in grouped])\n",
    "nsv_presentation_data.reset_index(drop=True, inplace=True)"
   ],
   "metadata": {
    "collapsed": false,
    "ExecuteTime": {
     "end_time": "2024-04-24T16:21:43.671012Z",
     "start_time": "2024-04-24T16:21:38.212330Z"
    }
   },
   "outputs": [],
   "execution_count": 17
  },
  {
   "cell_type": "code",
   "source": [
    "nsv_presentation_data"
   ],
   "metadata": {
    "collapsed": false,
    "ExecuteTime": {
     "end_time": "2024-04-24T16:21:43.702039Z",
     "start_time": "2024-04-24T16:21:43.672013Z"
    }
   },
   "outputs": [
    {
     "data": {
      "text/plain": [
       "     date_sample     pair_id min_date_sample     cusips  cik_owner  \\\n",
       "0     2001-03-28 -2143225085      2001-03-28  02364W105     732717   \n",
       "1     2011-02-02 -2143225085      2001-03-28  02364W105     732717   \n",
       "2     2023-03-15 -2143225085      2001-03-28  02364W105     732717   \n",
       "3     2002-12-31 -2137979334      2002-12-31  559776109     946770   \n",
       "4     2007-04-20 -2137979334      2002-12-31  559776109     946770   \n",
       "...          ...         ...             ...        ...        ...   \n",
       "2224  1999-12-31  2144117528      1999-12-31  594972101    1050446   \n",
       "2225  2002-07-30  2144117528      1999-12-31  594972101    1050446   \n",
       "2226  1999-02-16  2145733102      1999-02-16  903469104     937941   \n",
       "2227  1999-03-19  2145733102      1999-02-16  903469104     937941   \n",
       "2228  2000-04-28  2145733102      1999-02-16  903469104     937941   \n",
       "\n",
       "                                  company                   owner  \\\n",
       "0                 AMERICA MOVIL SA DE CV/  SBC COMMUNICATIONS INC   \n",
       "1                AMERICA MOVIL SAB DE CV/               AT&T INC.   \n",
       "2                AMERICA MOVIL SAB DE CV/               AT&T INC.   \n",
       "3     HUNGARIAN TELECOMMUNICATIONS CO LTD     DEUTSCHE TELEKOM AG   \n",
       "4     HUNGARIAN TELECOMMUNICATIONS CO LTD     DEUTSCHE TELEKOM AG   \n",
       "...                                   ...                     ...   \n",
       "2224                    MICROSTRATEGY INC       MICROSTRATEGY INC   \n",
       "2225                    MICROSTRATEGY INC       MICROSTRATEGY INC   \n",
       "2226                             UBID INC  CREATIVE COMPUTERS INC   \n",
       "2227                             UBID INC  CREATIVE COMPUTERS INC   \n",
       "2228                             UBID INC  CREATIVE COMPUTERS INC   \n",
       "\n",
       "      cik_company file_type  date_issue  ... shares_agg_num  \\\n",
       "0         1129137       13G  2001-03-30  ...   1.059890e+09   \n",
       "1         1129137       13D  2010-08-02  ...   3.621532e+09   \n",
       "2         1129137       13D  2014-06-30  ...   0.000000e+00   \n",
       "3         1047564       13G  2003-02-14  ...   6.174781e+08   \n",
       "4         1047564       13G  2003-02-14  ...   6.174781e+08   \n",
       "...           ...       ...         ...  ...            ...   \n",
       "2224      1050446       13G  2000-02-15  ...   4.354932e+07   \n",
       "2225      1050446       13G  2000-02-18  ...   8.698958e+06   \n",
       "2226      1064710       13G  1999-02-16  ...   7.329883e+06   \n",
       "2227      1064710       13G  1999-02-16  ...   7.329883e+06   \n",
       "2228      1064710       13G  1999-06-17  ...   0.000000e+00   \n",
       "\n",
       "     shares_agg_bis_num shares_percentage_num       stake_1       stake_2  \\\n",
       "0          1.059890e+09                  7.30  1.550619e+07  1.550619e+07   \n",
       "1          3.621532e+09                  0.00  2.118596e+08  2.118596e+08   \n",
       "2          0.000000e+00                  0.00  0.000000e+00  0.000000e+00   \n",
       "3          6.174781e+08                 59.50  1.099111e+07  1.099111e+07   \n",
       "4          6.174781e+08                 59.50  1.814151e+07  1.814151e+07   \n",
       "...                 ...                   ...           ...           ...   \n",
       "2224       4.354932e+07                 66.05  9.145358e+06  9.145358e+06   \n",
       "2225       8.698958e+06                 28.00  4.175500e+03  4.175500e+03   \n",
       "2226       7.329883e+06                 80.10  4.292563e+05  4.292563e+05   \n",
       "2227       7.329883e+06                 80.10  5.497412e+05  5.497412e+05   \n",
       "2228       0.000000e+00                  0.00  0.000000e+00  0.000000e+00   \n",
       "\n",
       "           stake_3        stub_1        stub_2        stub_3      min_stub  \n",
       "0     8.416509e+05  1.273057e+08  1.273057e+08  1.419703e+08           NaN  \n",
       "1     0.000000e+00 -4.830227e+07 -4.830227e+07  1.635574e+08 -4.830227e+07  \n",
       "2     0.000000e+00  1.305479e+08  1.305479e+08  1.305479e+08           NaN  \n",
       "3     3.119050e+05 -8.761371e+06 -8.761371e+06  1.917834e+06           NaN  \n",
       "4     2.137939e+05 -1.456577e+07 -1.456577e+07  3.361942e+06 -1.456577e+07  \n",
       "...            ...           ...           ...           ...           ...  \n",
       "2224  1.371792e+06 -7.068458e+06 -7.068458e+06  7.051076e+05 -7.068458e+06  \n",
       "2225  6.357389e+03  1.852946e+04  1.852946e+04  1.634757e+04           NaN  \n",
       "2226  4.179553e+05 -1.465103e+05 -1.465103e+05 -1.352093e+05           NaN  \n",
       "2227  5.352682e+05 -2.144667e+05 -2.144667e+05 -1.999938e+05 -2.144667e+05  \n",
       "2228  0.000000e+00  8.002688e+04  8.002688e+04  8.002688e+04           NaN  \n",
       "\n",
       "[2229 rows x 47 columns]"
      ],
      "text/html": [
       "<div>\n",
       "<style scoped>\n",
       "    .dataframe tbody tr th:only-of-type {\n",
       "        vertical-align: middle;\n",
       "    }\n",
       "\n",
       "    .dataframe tbody tr th {\n",
       "        vertical-align: top;\n",
       "    }\n",
       "\n",
       "    .dataframe thead th {\n",
       "        text-align: right;\n",
       "    }\n",
       "</style>\n",
       "<table border=\"1\" class=\"dataframe\">\n",
       "  <thead>\n",
       "    <tr style=\"text-align: right;\">\n",
       "      <th></th>\n",
       "      <th>date_sample</th>\n",
       "      <th>pair_id</th>\n",
       "      <th>min_date_sample</th>\n",
       "      <th>cusips</th>\n",
       "      <th>cik_owner</th>\n",
       "      <th>company</th>\n",
       "      <th>owner</th>\n",
       "      <th>cik_company</th>\n",
       "      <th>file_type</th>\n",
       "      <th>date_issue</th>\n",
       "      <th>...</th>\n",
       "      <th>shares_agg_num</th>\n",
       "      <th>shares_agg_bis_num</th>\n",
       "      <th>shares_percentage_num</th>\n",
       "      <th>stake_1</th>\n",
       "      <th>stake_2</th>\n",
       "      <th>stake_3</th>\n",
       "      <th>stub_1</th>\n",
       "      <th>stub_2</th>\n",
       "      <th>stub_3</th>\n",
       "      <th>min_stub</th>\n",
       "    </tr>\n",
       "  </thead>\n",
       "  <tbody>\n",
       "    <tr>\n",
       "      <th>0</th>\n",
       "      <td>2001-03-28</td>\n",
       "      <td>-2143225085</td>\n",
       "      <td>2001-03-28</td>\n",
       "      <td>02364W105</td>\n",
       "      <td>732717</td>\n",
       "      <td>AMERICA MOVIL SA DE CV/</td>\n",
       "      <td>SBC COMMUNICATIONS INC</td>\n",
       "      <td>1129137</td>\n",
       "      <td>13G</td>\n",
       "      <td>2001-03-30</td>\n",
       "      <td>...</td>\n",
       "      <td>1.059890e+09</td>\n",
       "      <td>1.059890e+09</td>\n",
       "      <td>7.30</td>\n",
       "      <td>1.550619e+07</td>\n",
       "      <td>1.550619e+07</td>\n",
       "      <td>8.416509e+05</td>\n",
       "      <td>1.273057e+08</td>\n",
       "      <td>1.273057e+08</td>\n",
       "      <td>1.419703e+08</td>\n",
       "      <td>NaN</td>\n",
       "    </tr>\n",
       "    <tr>\n",
       "      <th>1</th>\n",
       "      <td>2011-02-02</td>\n",
       "      <td>-2143225085</td>\n",
       "      <td>2001-03-28</td>\n",
       "      <td>02364W105</td>\n",
       "      <td>732717</td>\n",
       "      <td>AMERICA MOVIL SAB DE CV/</td>\n",
       "      <td>AT&amp;T INC.</td>\n",
       "      <td>1129137</td>\n",
       "      <td>13D</td>\n",
       "      <td>2010-08-02</td>\n",
       "      <td>...</td>\n",
       "      <td>3.621532e+09</td>\n",
       "      <td>3.621532e+09</td>\n",
       "      <td>0.00</td>\n",
       "      <td>2.118596e+08</td>\n",
       "      <td>2.118596e+08</td>\n",
       "      <td>0.000000e+00</td>\n",
       "      <td>-4.830227e+07</td>\n",
       "      <td>-4.830227e+07</td>\n",
       "      <td>1.635574e+08</td>\n",
       "      <td>-4.830227e+07</td>\n",
       "    </tr>\n",
       "    <tr>\n",
       "      <th>2</th>\n",
       "      <td>2023-03-15</td>\n",
       "      <td>-2143225085</td>\n",
       "      <td>2001-03-28</td>\n",
       "      <td>02364W105</td>\n",
       "      <td>732717</td>\n",
       "      <td>AMERICA MOVIL SAB DE CV/</td>\n",
       "      <td>AT&amp;T INC.</td>\n",
       "      <td>1129137</td>\n",
       "      <td>13D</td>\n",
       "      <td>2014-06-30</td>\n",
       "      <td>...</td>\n",
       "      <td>0.000000e+00</td>\n",
       "      <td>0.000000e+00</td>\n",
       "      <td>0.00</td>\n",
       "      <td>0.000000e+00</td>\n",
       "      <td>0.000000e+00</td>\n",
       "      <td>0.000000e+00</td>\n",
       "      <td>1.305479e+08</td>\n",
       "      <td>1.305479e+08</td>\n",
       "      <td>1.305479e+08</td>\n",
       "      <td>NaN</td>\n",
       "    </tr>\n",
       "    <tr>\n",
       "      <th>3</th>\n",
       "      <td>2002-12-31</td>\n",
       "      <td>-2137979334</td>\n",
       "      <td>2002-12-31</td>\n",
       "      <td>559776109</td>\n",
       "      <td>946770</td>\n",
       "      <td>HUNGARIAN TELECOMMUNICATIONS CO LTD</td>\n",
       "      <td>DEUTSCHE TELEKOM AG</td>\n",
       "      <td>1047564</td>\n",
       "      <td>13G</td>\n",
       "      <td>2003-02-14</td>\n",
       "      <td>...</td>\n",
       "      <td>6.174781e+08</td>\n",
       "      <td>6.174781e+08</td>\n",
       "      <td>59.50</td>\n",
       "      <td>1.099111e+07</td>\n",
       "      <td>1.099111e+07</td>\n",
       "      <td>3.119050e+05</td>\n",
       "      <td>-8.761371e+06</td>\n",
       "      <td>-8.761371e+06</td>\n",
       "      <td>1.917834e+06</td>\n",
       "      <td>NaN</td>\n",
       "    </tr>\n",
       "    <tr>\n",
       "      <th>4</th>\n",
       "      <td>2007-04-20</td>\n",
       "      <td>-2137979334</td>\n",
       "      <td>2002-12-31</td>\n",
       "      <td>559776109</td>\n",
       "      <td>946770</td>\n",
       "      <td>HUNGARIAN TELECOMMUNICATIONS CO LTD</td>\n",
       "      <td>DEUTSCHE TELEKOM AG</td>\n",
       "      <td>1047564</td>\n",
       "      <td>13G</td>\n",
       "      <td>2003-02-14</td>\n",
       "      <td>...</td>\n",
       "      <td>6.174781e+08</td>\n",
       "      <td>6.174781e+08</td>\n",
       "      <td>59.50</td>\n",
       "      <td>1.814151e+07</td>\n",
       "      <td>1.814151e+07</td>\n",
       "      <td>2.137939e+05</td>\n",
       "      <td>-1.456577e+07</td>\n",
       "      <td>-1.456577e+07</td>\n",
       "      <td>3.361942e+06</td>\n",
       "      <td>-1.456577e+07</td>\n",
       "    </tr>\n",
       "    <tr>\n",
       "      <th>...</th>\n",
       "      <td>...</td>\n",
       "      <td>...</td>\n",
       "      <td>...</td>\n",
       "      <td>...</td>\n",
       "      <td>...</td>\n",
       "      <td>...</td>\n",
       "      <td>...</td>\n",
       "      <td>...</td>\n",
       "      <td>...</td>\n",
       "      <td>...</td>\n",
       "      <td>...</td>\n",
       "      <td>...</td>\n",
       "      <td>...</td>\n",
       "      <td>...</td>\n",
       "      <td>...</td>\n",
       "      <td>...</td>\n",
       "      <td>...</td>\n",
       "      <td>...</td>\n",
       "      <td>...</td>\n",
       "      <td>...</td>\n",
       "      <td>...</td>\n",
       "    </tr>\n",
       "    <tr>\n",
       "      <th>2224</th>\n",
       "      <td>1999-12-31</td>\n",
       "      <td>2144117528</td>\n",
       "      <td>1999-12-31</td>\n",
       "      <td>594972101</td>\n",
       "      <td>1050446</td>\n",
       "      <td>MICROSTRATEGY INC</td>\n",
       "      <td>MICROSTRATEGY INC</td>\n",
       "      <td>1050446</td>\n",
       "      <td>13G</td>\n",
       "      <td>2000-02-15</td>\n",
       "      <td>...</td>\n",
       "      <td>4.354932e+07</td>\n",
       "      <td>4.354932e+07</td>\n",
       "      <td>66.05</td>\n",
       "      <td>9.145358e+06</td>\n",
       "      <td>9.145358e+06</td>\n",
       "      <td>1.371792e+06</td>\n",
       "      <td>-7.068458e+06</td>\n",
       "      <td>-7.068458e+06</td>\n",
       "      <td>7.051076e+05</td>\n",
       "      <td>-7.068458e+06</td>\n",
       "    </tr>\n",
       "    <tr>\n",
       "      <th>2225</th>\n",
       "      <td>2002-07-30</td>\n",
       "      <td>2144117528</td>\n",
       "      <td>1999-12-31</td>\n",
       "      <td>594972101</td>\n",
       "      <td>1050446</td>\n",
       "      <td>MICROSTRATEGY INC</td>\n",
       "      <td>MICROSTRATEGY INC</td>\n",
       "      <td>1050446</td>\n",
       "      <td>13G</td>\n",
       "      <td>2000-02-18</td>\n",
       "      <td>...</td>\n",
       "      <td>8.698958e+06</td>\n",
       "      <td>8.698958e+06</td>\n",
       "      <td>28.00</td>\n",
       "      <td>4.175500e+03</td>\n",
       "      <td>4.175500e+03</td>\n",
       "      <td>6.357389e+03</td>\n",
       "      <td>1.852946e+04</td>\n",
       "      <td>1.852946e+04</td>\n",
       "      <td>1.634757e+04</td>\n",
       "      <td>NaN</td>\n",
       "    </tr>\n",
       "    <tr>\n",
       "      <th>2226</th>\n",
       "      <td>1999-02-16</td>\n",
       "      <td>2145733102</td>\n",
       "      <td>1999-02-16</td>\n",
       "      <td>903469104</td>\n",
       "      <td>937941</td>\n",
       "      <td>UBID INC</td>\n",
       "      <td>CREATIVE COMPUTERS INC</td>\n",
       "      <td>1064710</td>\n",
       "      <td>13G</td>\n",
       "      <td>1999-02-16</td>\n",
       "      <td>...</td>\n",
       "      <td>7.329883e+06</td>\n",
       "      <td>7.329883e+06</td>\n",
       "      <td>80.10</td>\n",
       "      <td>4.292563e+05</td>\n",
       "      <td>4.292563e+05</td>\n",
       "      <td>4.179553e+05</td>\n",
       "      <td>-1.465103e+05</td>\n",
       "      <td>-1.465103e+05</td>\n",
       "      <td>-1.352093e+05</td>\n",
       "      <td>NaN</td>\n",
       "    </tr>\n",
       "    <tr>\n",
       "      <th>2227</th>\n",
       "      <td>1999-03-19</td>\n",
       "      <td>2145733102</td>\n",
       "      <td>1999-02-16</td>\n",
       "      <td>903469104</td>\n",
       "      <td>937941</td>\n",
       "      <td>UBID INC</td>\n",
       "      <td>CREATIVE COMPUTERS INC</td>\n",
       "      <td>1064710</td>\n",
       "      <td>13G</td>\n",
       "      <td>1999-02-16</td>\n",
       "      <td>...</td>\n",
       "      <td>7.329883e+06</td>\n",
       "      <td>7.329883e+06</td>\n",
       "      <td>80.10</td>\n",
       "      <td>5.497412e+05</td>\n",
       "      <td>5.497412e+05</td>\n",
       "      <td>5.352682e+05</td>\n",
       "      <td>-2.144667e+05</td>\n",
       "      <td>-2.144667e+05</td>\n",
       "      <td>-1.999938e+05</td>\n",
       "      <td>-2.144667e+05</td>\n",
       "    </tr>\n",
       "    <tr>\n",
       "      <th>2228</th>\n",
       "      <td>2000-04-28</td>\n",
       "      <td>2145733102</td>\n",
       "      <td>1999-02-16</td>\n",
       "      <td>903469104</td>\n",
       "      <td>937941</td>\n",
       "      <td>UBID INC</td>\n",
       "      <td>CREATIVE COMPUTERS INC</td>\n",
       "      <td>1064710</td>\n",
       "      <td>13G</td>\n",
       "      <td>1999-06-17</td>\n",
       "      <td>...</td>\n",
       "      <td>0.000000e+00</td>\n",
       "      <td>0.000000e+00</td>\n",
       "      <td>0.00</td>\n",
       "      <td>0.000000e+00</td>\n",
       "      <td>0.000000e+00</td>\n",
       "      <td>0.000000e+00</td>\n",
       "      <td>8.002688e+04</td>\n",
       "      <td>8.002688e+04</td>\n",
       "      <td>8.002688e+04</td>\n",
       "      <td>NaN</td>\n",
       "    </tr>\n",
       "  </tbody>\n",
       "</table>\n",
       "<p>2229 rows × 47 columns</p>\n",
       "</div>"
      ]
     },
     "execution_count": 18,
     "metadata": {},
     "output_type": "execute_result"
    }
   ],
   "execution_count": 18
  },
  {
   "cell_type": "code",
   "source": [
    "nsv_presentation_data[nsv_presentation_data.pair_id == -1227398985]"
   ],
   "metadata": {
    "collapsed": false,
    "ExecuteTime": {
     "end_time": "2024-04-24T16:21:43.733066Z",
     "start_time": "2024-04-24T16:21:43.703040Z"
    }
   },
   "outputs": [
    {
     "data": {
      "text/plain": [
       "    date_sample     pair_id min_date_sample     cusips  cik_owner  \\\n",
       "504  2016-09-07 -1227398985      2016-09-07  928563402    1571996   \n",
       "505  2019-05-16 -1227398985      2016-09-07  928563402    1571996   \n",
       "506  2023-11-21 -1227398985      2016-09-07  928563402    1571996   \n",
       "\n",
       "          company                   owner  cik_company file_type  date_issue  \\\n",
       "504  VMWARE, INC.   Dell Technologies Inc      1124610       13D  2016-09-15   \n",
       "505  VMWARE, INC.   Dell Technologies Inc      1124610       13D  2018-12-26   \n",
       "506  VMWARE, INC.  Dell Technologies Inc.      1124610       13D  2021-11-02   \n",
       "\n",
       "     ... shares_agg_num shares_agg_bis_num shares_percentage_num  \\\n",
       "504  ...    343025308.0        343025308.0                  80.8   \n",
       "505  ...    330678605.0        330678605.0                  80.7   \n",
       "506  ...            0.0                0.0                   0.0   \n",
       "\n",
       "          stake_1       stake_2       stake_3        stub_1        stub_2  \\\n",
       "504  2.495852e+07  2.495852e+07  7.313956e+06 -1.425615e+07 -1.425615e+07   \n",
       "505  6.796107e+07  6.796107e+07  1.831715e+07 -5.596182e+07 -5.596182e+07   \n",
       "506  0.000000e+00  0.000000e+00  0.000000e+00  1.865627e+07  1.865627e+07   \n",
       "\n",
       "           stub_3      min_stub  \n",
       "504  3.388412e+06           NaN  \n",
       "505 -6.317904e+06 -5.596182e+07  \n",
       "506  1.865627e+07           NaN  \n",
       "\n",
       "[3 rows x 47 columns]"
      ],
      "text/html": [
       "<div>\n",
       "<style scoped>\n",
       "    .dataframe tbody tr th:only-of-type {\n",
       "        vertical-align: middle;\n",
       "    }\n",
       "\n",
       "    .dataframe tbody tr th {\n",
       "        vertical-align: top;\n",
       "    }\n",
       "\n",
       "    .dataframe thead th {\n",
       "        text-align: right;\n",
       "    }\n",
       "</style>\n",
       "<table border=\"1\" class=\"dataframe\">\n",
       "  <thead>\n",
       "    <tr style=\"text-align: right;\">\n",
       "      <th></th>\n",
       "      <th>date_sample</th>\n",
       "      <th>pair_id</th>\n",
       "      <th>min_date_sample</th>\n",
       "      <th>cusips</th>\n",
       "      <th>cik_owner</th>\n",
       "      <th>company</th>\n",
       "      <th>owner</th>\n",
       "      <th>cik_company</th>\n",
       "      <th>file_type</th>\n",
       "      <th>date_issue</th>\n",
       "      <th>...</th>\n",
       "      <th>shares_agg_num</th>\n",
       "      <th>shares_agg_bis_num</th>\n",
       "      <th>shares_percentage_num</th>\n",
       "      <th>stake_1</th>\n",
       "      <th>stake_2</th>\n",
       "      <th>stake_3</th>\n",
       "      <th>stub_1</th>\n",
       "      <th>stub_2</th>\n",
       "      <th>stub_3</th>\n",
       "      <th>min_stub</th>\n",
       "    </tr>\n",
       "  </thead>\n",
       "  <tbody>\n",
       "    <tr>\n",
       "      <th>504</th>\n",
       "      <td>2016-09-07</td>\n",
       "      <td>-1227398985</td>\n",
       "      <td>2016-09-07</td>\n",
       "      <td>928563402</td>\n",
       "      <td>1571996</td>\n",
       "      <td>VMWARE, INC.</td>\n",
       "      <td>Dell Technologies Inc</td>\n",
       "      <td>1124610</td>\n",
       "      <td>13D</td>\n",
       "      <td>2016-09-15</td>\n",
       "      <td>...</td>\n",
       "      <td>343025308.0</td>\n",
       "      <td>343025308.0</td>\n",
       "      <td>80.8</td>\n",
       "      <td>2.495852e+07</td>\n",
       "      <td>2.495852e+07</td>\n",
       "      <td>7.313956e+06</td>\n",
       "      <td>-1.425615e+07</td>\n",
       "      <td>-1.425615e+07</td>\n",
       "      <td>3.388412e+06</td>\n",
       "      <td>NaN</td>\n",
       "    </tr>\n",
       "    <tr>\n",
       "      <th>505</th>\n",
       "      <td>2019-05-16</td>\n",
       "      <td>-1227398985</td>\n",
       "      <td>2016-09-07</td>\n",
       "      <td>928563402</td>\n",
       "      <td>1571996</td>\n",
       "      <td>VMWARE, INC.</td>\n",
       "      <td>Dell Technologies Inc</td>\n",
       "      <td>1124610</td>\n",
       "      <td>13D</td>\n",
       "      <td>2018-12-26</td>\n",
       "      <td>...</td>\n",
       "      <td>330678605.0</td>\n",
       "      <td>330678605.0</td>\n",
       "      <td>80.7</td>\n",
       "      <td>6.796107e+07</td>\n",
       "      <td>6.796107e+07</td>\n",
       "      <td>1.831715e+07</td>\n",
       "      <td>-5.596182e+07</td>\n",
       "      <td>-5.596182e+07</td>\n",
       "      <td>-6.317904e+06</td>\n",
       "      <td>-5.596182e+07</td>\n",
       "    </tr>\n",
       "    <tr>\n",
       "      <th>506</th>\n",
       "      <td>2023-11-21</td>\n",
       "      <td>-1227398985</td>\n",
       "      <td>2016-09-07</td>\n",
       "      <td>928563402</td>\n",
       "      <td>1571996</td>\n",
       "      <td>VMWARE, INC.</td>\n",
       "      <td>Dell Technologies Inc.</td>\n",
       "      <td>1124610</td>\n",
       "      <td>13D</td>\n",
       "      <td>2021-11-02</td>\n",
       "      <td>...</td>\n",
       "      <td>0.0</td>\n",
       "      <td>0.0</td>\n",
       "      <td>0.0</td>\n",
       "      <td>0.000000e+00</td>\n",
       "      <td>0.000000e+00</td>\n",
       "      <td>0.000000e+00</td>\n",
       "      <td>1.865627e+07</td>\n",
       "      <td>1.865627e+07</td>\n",
       "      <td>1.865627e+07</td>\n",
       "      <td>NaN</td>\n",
       "    </tr>\n",
       "  </tbody>\n",
       "</table>\n",
       "<p>3 rows × 47 columns</p>\n",
       "</div>"
      ]
     },
     "execution_count": 19,
     "metadata": {},
     "output_type": "execute_result"
    }
   ],
   "execution_count": 19
  },
  {
   "cell_type": "code",
   "source": [
    "nsv_presentation_data.to_csv('../17_data_new/nsv_presentation.csv')"
   ],
   "metadata": {
    "collapsed": false,
    "ExecuteTime": {
     "end_time": "2024-04-24T16:21:43.810632Z",
     "start_time": "2024-04-24T16:21:43.734567Z"
    }
   },
   "outputs": [],
   "execution_count": 20
  },
  {
   "cell_type": "code",
   "source": [
    "nsv_presentation_data[nsv_presentation_data.pair_id == 1289966569]"
   ],
   "metadata": {
    "collapsed": false,
    "ExecuteTime": {
     "end_time": "2024-04-24T16:21:43.841659Z",
     "start_time": "2024-04-24T16:21:43.811633Z"
    }
   },
   "outputs": [
    {
     "data": {
      "text/plain": [
       "     date_sample     pair_id min_date_sample     cusips  cik_owner  \\\n",
       "1755  2019-03-13  1289966569      2019-03-12  03676B102    1433270   \n",
       "1756  2019-10-23  1289966569      2019-03-12  03676B102    1433270   \n",
       "1757  2023-12-29  1289966569      2019-03-12  03676B102    1433270   \n",
       "\n",
       "                    company                  owner  cik_company file_type  \\\n",
       "1755  Antero Midstream Corp  ANTERO RESOURCES Corp      1623925       13D   \n",
       "1756  Antero Midstream Corp  ANTERO RESOURCES Corp      1623925       13D   \n",
       "1757  Antero Midstream Corp  ANTERO RESOURCES Corp      1623925       13D   \n",
       "\n",
       "      date_issue  ... shares_agg_num shares_agg_bis_num shares_percentage_num  \\\n",
       "1755  2019-03-14  ...    158419937.0        158419937.0                 31.30   \n",
       "1756  2019-09-06  ...    158419937.0        158419937.0                 31.25   \n",
       "1757  2020-05-06  ...    139042345.0        139042345.0                 29.18   \n",
       "\n",
       "           stake_1       stake_2       stake_3        stub_1        stub_2  \\\n",
       "1755  1.986586e+06  1.986586e+06  7.309800e+05  5.844768e+05  5.844768e+05   \n",
       "1756  1.199239e+06  1.199239e+06  1.199128e+06 -4.076306e+05 -4.076306e+05   \n",
       "1757  1.742201e+06  1.742201e+06  1.753953e+06  5.074137e+06  5.074137e+06   \n",
       "\n",
       "            stub_3      min_stub  \n",
       "1755  1.840083e+06           NaN  \n",
       "1756 -4.075199e+05 -407630.60309  \n",
       "1757  5.062385e+06           NaN  \n",
       "\n",
       "[3 rows x 47 columns]"
      ],
      "text/html": [
       "<div>\n",
       "<style scoped>\n",
       "    .dataframe tbody tr th:only-of-type {\n",
       "        vertical-align: middle;\n",
       "    }\n",
       "\n",
       "    .dataframe tbody tr th {\n",
       "        vertical-align: top;\n",
       "    }\n",
       "\n",
       "    .dataframe thead th {\n",
       "        text-align: right;\n",
       "    }\n",
       "</style>\n",
       "<table border=\"1\" class=\"dataframe\">\n",
       "  <thead>\n",
       "    <tr style=\"text-align: right;\">\n",
       "      <th></th>\n",
       "      <th>date_sample</th>\n",
       "      <th>pair_id</th>\n",
       "      <th>min_date_sample</th>\n",
       "      <th>cusips</th>\n",
       "      <th>cik_owner</th>\n",
       "      <th>company</th>\n",
       "      <th>owner</th>\n",
       "      <th>cik_company</th>\n",
       "      <th>file_type</th>\n",
       "      <th>date_issue</th>\n",
       "      <th>...</th>\n",
       "      <th>shares_agg_num</th>\n",
       "      <th>shares_agg_bis_num</th>\n",
       "      <th>shares_percentage_num</th>\n",
       "      <th>stake_1</th>\n",
       "      <th>stake_2</th>\n",
       "      <th>stake_3</th>\n",
       "      <th>stub_1</th>\n",
       "      <th>stub_2</th>\n",
       "      <th>stub_3</th>\n",
       "      <th>min_stub</th>\n",
       "    </tr>\n",
       "  </thead>\n",
       "  <tbody>\n",
       "    <tr>\n",
       "      <th>1755</th>\n",
       "      <td>2019-03-13</td>\n",
       "      <td>1289966569</td>\n",
       "      <td>2019-03-12</td>\n",
       "      <td>03676B102</td>\n",
       "      <td>1433270</td>\n",
       "      <td>Antero Midstream Corp</td>\n",
       "      <td>ANTERO RESOURCES Corp</td>\n",
       "      <td>1623925</td>\n",
       "      <td>13D</td>\n",
       "      <td>2019-03-14</td>\n",
       "      <td>...</td>\n",
       "      <td>158419937.0</td>\n",
       "      <td>158419937.0</td>\n",
       "      <td>31.30</td>\n",
       "      <td>1.986586e+06</td>\n",
       "      <td>1.986586e+06</td>\n",
       "      <td>7.309800e+05</td>\n",
       "      <td>5.844768e+05</td>\n",
       "      <td>5.844768e+05</td>\n",
       "      <td>1.840083e+06</td>\n",
       "      <td>NaN</td>\n",
       "    </tr>\n",
       "    <tr>\n",
       "      <th>1756</th>\n",
       "      <td>2019-10-23</td>\n",
       "      <td>1289966569</td>\n",
       "      <td>2019-03-12</td>\n",
       "      <td>03676B102</td>\n",
       "      <td>1433270</td>\n",
       "      <td>Antero Midstream Corp</td>\n",
       "      <td>ANTERO RESOURCES Corp</td>\n",
       "      <td>1623925</td>\n",
       "      <td>13D</td>\n",
       "      <td>2019-09-06</td>\n",
       "      <td>...</td>\n",
       "      <td>158419937.0</td>\n",
       "      <td>158419937.0</td>\n",
       "      <td>31.25</td>\n",
       "      <td>1.199239e+06</td>\n",
       "      <td>1.199239e+06</td>\n",
       "      <td>1.199128e+06</td>\n",
       "      <td>-4.076306e+05</td>\n",
       "      <td>-4.076306e+05</td>\n",
       "      <td>-4.075199e+05</td>\n",
       "      <td>-407630.60309</td>\n",
       "    </tr>\n",
       "    <tr>\n",
       "      <th>1757</th>\n",
       "      <td>2023-12-29</td>\n",
       "      <td>1289966569</td>\n",
       "      <td>2019-03-12</td>\n",
       "      <td>03676B102</td>\n",
       "      <td>1433270</td>\n",
       "      <td>Antero Midstream Corp</td>\n",
       "      <td>ANTERO RESOURCES Corp</td>\n",
       "      <td>1623925</td>\n",
       "      <td>13D</td>\n",
       "      <td>2020-05-06</td>\n",
       "      <td>...</td>\n",
       "      <td>139042345.0</td>\n",
       "      <td>139042345.0</td>\n",
       "      <td>29.18</td>\n",
       "      <td>1.742201e+06</td>\n",
       "      <td>1.742201e+06</td>\n",
       "      <td>1.753953e+06</td>\n",
       "      <td>5.074137e+06</td>\n",
       "      <td>5.074137e+06</td>\n",
       "      <td>5.062385e+06</td>\n",
       "      <td>NaN</td>\n",
       "    </tr>\n",
       "  </tbody>\n",
       "</table>\n",
       "<p>3 rows × 47 columns</p>\n",
       "</div>"
      ]
     },
     "execution_count": 21,
     "metadata": {},
     "output_type": "execute_result"
    }
   ],
   "execution_count": 21
  },
  {
   "cell_type": "code",
   "source": [
    "nsv_pair_data.to_csv('../17_data_new/nsv_data')"
   ],
   "metadata": {
    "collapsed": false,
    "ExecuteTime": {
     "end_time": "2024-04-24T16:22:45.196791Z",
     "start_time": "2024-04-24T16:21:43.842660Z"
    }
   },
   "outputs": [],
   "execution_count": 22
  }
 ],
 "metadata": {
  "kernelspec": {
   "display_name": "Python 3",
   "language": "python",
   "name": "python3"
  },
  "language_info": {
   "codemirror_mode": {
    "name": "ipython",
    "version": 2
   },
   "file_extension": ".py",
   "mimetype": "text/x-python",
   "name": "python",
   "nbconvert_exporter": "python",
   "pygments_lexer": "ipython2",
   "version": "2.7.6"
  }
 },
 "nbformat": 4,
 "nbformat_minor": 0
}
